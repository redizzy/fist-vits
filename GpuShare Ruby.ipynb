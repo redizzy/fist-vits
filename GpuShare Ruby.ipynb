{
 "cells": [
  {
   "cell_type": "code",
   "execution_count": null,
   "id": "5d3cb8a1-8d63-4a30-b8dd-9506c6371b02",
   "metadata": {},
   "outputs": [],
   "source": [
    "# 克隆代码\n",
    "!git clone https://github.com/rotten-work/vits-mandarin-windows.git"
   ]
  },
  {
   "cell_type": "code",
   "execution_count": null,
   "id": "1357ee0f-26a7-481a-ad05-ba1c9bd5a6b2",
   "metadata": {},
   "outputs": [],
   "source": [
    "# 下载与安装依赖\n",
    "%cd /content/vits-mandarin-windows/\n",
    "!pip install -r requirements.txt\n",
    "!sudo apt-get install espeak -y\n",
    "%cd /content/vits-mandarin-windows/monotonic_align\n",
    "!python setup.py build_ext --inplace"
   ]
  },
  {
   "cell_type": "code",
   "execution_count": null,
   "id": "ae2cbc64-ff00-4bc8-a4b1-03e09c5ac8da",
   "metadata": {},
   "outputs": [],
   "source": [
    "#@ 更新代码\n",
    "%cd /content/vits-mandarin-windows/\n",
    "# git reset --hard\n",
    "!git pull\n",
    "# !git checkout HEAD\n",
    "# !git reset --hard"
   ]
  },
  {
   "cell_type": "code",
   "execution_count": null,
   "id": "327e7963-2c37-41ed-8f33-91148645a299",
   "metadata": {},
   "outputs": [],
   "source": [
    "# 解压数据集\n",
    "%cd /content/vits-mandarin-windows/\n",
    "\n",
    "source = \"/hy-tmp/ruby.zip\"\n",
    "dest = \"//hy-tmp/\"\n",
    "# !unzip file_path -d target_dir\n",
    "\n",
    "import zipfile\n",
    "with zipfile.ZipFile(source, 'r') as zip_ref:\n",
    "    zip_ref.extractall(dest)"
   ]
  },
  {
   "cell_type": "code",
   "execution_count": null,
   "id": "edb24216-82b3-4a55-8671-7649683dd5a3",
   "metadata": {},
   "outputs": [],
   "source": [
    "# 创建软链接：训练数据\n",
    "import os\n",
    "\n",
    "# Source file path\n",
    "源路径 = '/hy-tmp/ruby/'\n",
    "# Destination file path\n",
    "目标路径 = '/content/vits-mandarin-windows/ruby'\n",
    "os.symlink(源路径, 目标路径)"
   ]
  },
  {
   "cell_type": "code",
   "execution_count": null,
   "id": "a8c6be80-262e-423a-bcf6-96bd1070e967",
   "metadata": {},
   "outputs": [],
   "source": [
    "# 创建软链接：预训练权重\n",
    "import os\n",
    "\n",
    "# Source file path\n",
    "源路径 = '/hy-tmp/pretrained_models/'\n",
    "# Destination file path\n",
    "目标路径 = '/content/vits-mandarin-windows/pretrained_models'\n",
    "os.symlink(源路径, 目标路径)"
   ]
  },
  {
   "cell_type": "code",
   "execution_count": null,
   "id": "9b1b4d70-53e4-44ac-a693-c8bd777516a5",
   "metadata": {},
   "outputs": [],
   "source": [
    "#@title 资源监视\n",
    "# !nvidia-smi -L\n",
    "!nvidia-smi\n",
    "# !nvidia-smi -l\n",
    "# !kill process_id"
   ]
  },
  {
   "cell_type": "code",
   "execution_count": null,
   "id": "952787eb-47b9-49c1-a051-9a9a9323fef8",
   "metadata": {},
   "outputs": [],
   "source": [
    "# 开始训练\n",
    "%cd /content/vits-mandarin-windows/\n",
    "!python train.py -c configs/ruby_v100.json -m ruby_v100 -d \"/hy-tmp/training\""
   ]
  },
  {
   "cell_type": "code",
   "execution_count": null,
   "id": "39f32818-6e6d-4fdf-a76c-a974d5e2ff33",
   "metadata": {},
   "outputs": [],
   "source": [
    "# 创建软链接：恒源云TensorBoard\n",
    "import os\n",
    "\n",
    "# Source file path\n",
    "源路径 = '/hy-tmp/training'\n",
    "# Destination file path\n",
    "目标路径 = '/tf_logs/training'\n",
    "os.symlink(源路径, 目标路径)"
   ]
  }
 ],
 "metadata": {
  "kernelspec": {
   "display_name": "vits",
   "language": "python",
   "name": "python3"
  },
  "language_info": {
   "codemirror_mode": {
    "name": "ipython",
    "version": 3
   },
   "file_extension": ".py",
   "mimetype": "text/x-python",
   "name": "python",
   "nbconvert_exporter": "python",
   "pygments_lexer": "ipython3",
   "version": "3.9.13 | packaged by conda-forge | (main, May 27 2022, 16:50:36) [MSC v.1929 64 bit (AMD64)]"
  },
  "vscode": {
   "interpreter": {
    "hash": "f77c556a009d4e6b18ed089d1545dd259afb49c9a3776e12ecd95b1b9b76726a"
   }
  }
 },
 "nbformat": 4,
 "nbformat_minor": 5
}
